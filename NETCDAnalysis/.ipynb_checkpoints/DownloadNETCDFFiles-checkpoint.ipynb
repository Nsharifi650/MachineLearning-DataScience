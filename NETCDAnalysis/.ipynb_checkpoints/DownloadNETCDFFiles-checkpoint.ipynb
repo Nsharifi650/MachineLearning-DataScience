{
 "cells": [
  {
   "cell_type": "markdown",
   "id": "6f141d37",
   "metadata": {},
   "source": [
    "# complete example - ERA5 - single level"
   ]
  },
  {
   "cell_type": "code",
   "execution_count": null,
   "id": "ea47c073",
   "metadata": {},
   "outputs": [],
   "source": [
    "import cdsapi\n",
    "c = cdsapi.Client()\n",
    "\n",
    "\n",
    "years = ['1959','1960',]\n",
    "months = ['01','02','03','04','05','06','07','08','09','10','11','12',]\n",
    "days = ['01','02','03','04','05','06','07','08','09','10','11','12','13','14','15','16','17','18',\n",
    "        '19','20','21','22','23','24','25','26','27','28','29','30','31',]\n",
    "times = ['00:00','01:00','02:00','03:00','04:00','05:00','06:00',\n",
    "         '07:00','08:00','09:00','10:00','11:00','12:00','13:00',\n",
    "         '14:00','15:00','16:00','17:00','18:00','19:00','20:00',\n",
    "         '21:00','22:00','23:00',],\n",
    "variables = ['10m_u_component_of_wind','10m_v_component_of_wind','2m_dewpoint_temperature','2m_temperature',]\n",
    "\n",
    "\n",
    "c.retrieve('reanalysis-era5-single-levels', \n",
    "           {'product_type': 'reanalysis',\n",
    "           'format': 'netcdf',\n",
    "           'variable': [\n",
    "               '100m_u_component_of_wind','100m_v_component_of_wind',\n",
    "           ],\n",
    "           'year': [\n",
    "               '1959','1960','1961','1962','1963',               \n",
    "           ],\n",
    "           'month': [\n",
    "               '01','02','03','04','05','06','07','08','09','10','11','12'\n",
    "           ],\n",
    "           'day': [ '01','02','03','04','05','06','07','08','09','10','11','12',\n",
    "                   '13','14','15','16','17','18','19','20','21','22','23','24',\n",
    "                   '25','26','27','28','29','30','31',\n",
    "               \n",
    "           ],\n",
    "           'time': ['00:00','01:00','02:00','03:00','04:00','05:00','06:00',\n",
    "                    '07:00','08:00','09:00','10:00','11:00','12:00','13:00',\n",
    "                    '14:00','15:00','16:00','17:00','18:00','19:00','20:00',\n",
    "                    '21:00','22:00','23:00',\n",
    "                   ],\n",
    "           }, \n",
    "           'download2.nc')"
   ]
  },
  {
   "cell_type": "markdown",
   "id": "b6b36325",
   "metadata": {},
   "source": [
    "# definitions and inputs"
   ]
  },
  {
   "cell_type": "code",
   "execution_count": 6,
   "id": "b668b898",
   "metadata": {},
   "outputs": [],
   "source": [
    "years = ['1959']\n",
    "months = ['01']\n",
    "days = ['01']\n",
    "times = ['10:00']\n",
    "variables = ['10m_u_component_of_wind']\n",
    "\n",
    "areas = ['75', '-15', '30', '42.5']\n",
    "grids= ['0.4', '0.4']"
   ]
  },
  {
   "cell_type": "markdown",
   "id": "b851b10d",
   "metadata": {},
   "source": [
    "# Download file"
   ]
  },
  {
   "cell_type": "code",
   "execution_count": 7,
   "id": "e5af27fe",
   "metadata": {},
   "outputs": [
    {
     "name": "stderr",
     "output_type": "stream",
     "text": [
      "2022-11-13 12:46:10,112 INFO Welcome to the CDS\n",
      "2022-11-13 12:46:10,114 INFO Sending request to https://cds.climate.copernicus.eu/api/v2/resources/reanalysis-era5-single-levels\n",
      "2022-11-13 12:46:10,192 INFO Request is queued\n",
      "2022-11-13 12:46:11,250 INFO Request is running\n",
      "2022-11-13 12:46:15,100 INFO Request is completed\n",
      "2022-11-13 12:46:15,103 INFO Downloading https://download-0007-clone.copernicus-climate.eu/cache-compute-0007/cache/data1/adaptor.mars.internal-1668343573.6483238-32217-16-75cfaecf-915e-407e-bd61-9d721c683e26.nc to download2.nc (33.8K)\n",
      "2022-11-13 12:46:15,396 INFO Download rate 117.1K/s                            \n"
     ]
    },
    {
     "data": {
      "text/plain": [
       "Result(content_length=34660,content_type=application/x-netcdf,location=https://download-0007-clone.copernicus-climate.eu/cache-compute-0007/cache/data1/adaptor.mars.internal-1668343573.6483238-32217-16-75cfaecf-915e-407e-bd61-9d721c683e26.nc)"
      ]
     },
     "execution_count": 7,
     "metadata": {},
     "output_type": "execute_result"
    }
   ],
   "source": [
    "import cdsapi\n",
    "c = cdsapi.Client()\n",
    "\n",
    "c.retrieve('reanalysis-era5-single-levels', \n",
    "           {'product_type': 'reanalysis',\n",
    "           'format': 'netcdf',\n",
    "           'variable': variables\n",
    "            ,\n",
    "           'year': years\n",
    "            ,\n",
    "           'month': months\n",
    "            ,\n",
    "           'day': days\n",
    "            ,\n",
    "           'time': times\n",
    "            ,\n",
    "            'area': areas\n",
    "            ,\n",
    "            'grid': grids\n",
    "            ,\n",
    "           }, \n",
    "           'download2.nc')"
   ]
  },
  {
   "cell_type": "code",
   "execution_count": 3,
   "id": "bfcbe7eb",
   "metadata": {},
   "outputs": [
    {
     "name": "stderr",
     "output_type": "stream",
     "text": [
      "2022-11-13 12:42:57,839 INFO Welcome to the CDS\n",
      "2022-11-13 12:42:57,840 INFO Sending request to https://cds.climate.copernicus.eu/api/v2/resources/reanalysis-era5-single-levels\n",
      "2022-11-13 12:42:57,973 INFO Request is completed\n",
      "2022-11-13 12:42:57,975 INFO Downloading https://download-0017.copernicus-climate.eu/cache-compute-0017/cache/data5/adaptor.mars.internal-1668342363.228818-20018-16-65e0605c-8512-4fe7-9b7e-5f020d68d874.nc to download2.nc (2M)\n",
      "2022-11-13 12:42:58,462 INFO Download rate 4.1M/s                              \n"
     ]
    },
    {
     "data": {
      "text/plain": [
       "Result(content_length=2086212,content_type=application/x-netcdf,location=https://download-0017.copernicus-climate.eu/cache-compute-0017/cache/data5/adaptor.mars.internal-1668342363.228818-20018-16-65e0605c-8512-4fe7-9b7e-5f020d68d874.nc)"
      ]
     },
     "execution_count": 3,
     "metadata": {},
     "output_type": "execute_result"
    }
   ],
   "source": [
    "import cdsapi\n",
    "c = cdsapi.Client()\n",
    "\n",
    "\n",
    "years = ['1959']\n",
    "months = ['01']\n",
    "days = ['01']\n",
    "times = ['01:00']\n",
    "variables = ['10m_u_component_of_wind']\n",
    "\n",
    "\n",
    "c.retrieve('reanalysis-era5-single-levels', \n",
    "           {'product_type': 'reanalysis',\n",
    "           'format': 'netcdf',\n",
    "           'variable': variables\n",
    "           ,\n",
    "           'year': years             \n",
    "           ,\n",
    "           'month': [\n",
    "               '01',\n",
    "           ],\n",
    "           'day': [ '01',               \n",
    "           ],\n",
    "           'time': ['01:00',\n",
    "                   ],\n",
    "           }, \n",
    "           'download2.nc')\n",
    "\n",
    "\n"
   ]
  },
  {
   "cell_type": "code",
   "execution_count": null,
   "id": "fcb66267",
   "metadata": {},
   "outputs": [],
   "source": [
    "import cdsapi\n",
    "c = cdsapi.Client()\n",
    "\n",
    "years = ['1959','1960',]\n",
    "months = ['00:00','01:00','02:00','03:00','04:00','05:00','06:00', '07:00','08:00','09:00','10:00','11:00','12:00',\n",
    "         '13:00','14:00','15:00','16:00','17:00','18:00','19:00','20:00','21:00','22:00','23:00',]\n",
    "days = ['01','02','03','04','05','06','07','08','09','10','11','12','13','14','15','16','17','18',\n",
    "        '19','20','21','22','23','24','25','26','27','28','29','30','31',]\n",
    "times = ['00:00','01:00','02:00','03:00','04:00','05:00','06:00',\n",
    "         '07:00','08:00','09:00','10:00','11:00','12:00','13:00',\n",
    "         '14:00','15:00','16:00','17:00','18:00','19:00','20:00',\n",
    "         '21:00','22:00','23:00',],\n",
    "variables = ['10m_u_component_of_wind','10m_v_component_of_wind','2m_dewpoint_temperature','2m_temperature',]\n",
    "\n",
    "c.retrieve('reanalysis-era5-single-levels', \n",
    "           {'product_type': 'reanalysis',\n",
    "           'format': 'netcdf',\n",
    "           'variable': [\n",
    "               '100m_u_component_of_wind','100m_v_component_of_wind',\n",
    "           ],\n",
    "           'year': [\n",
    "               '1959','1960','1961','1962','1963',               \n",
    "           ],\n",
    "           'month': [\n",
    "               '01','02','03','04','05','06','07','08','09','10','11','12'\n",
    "           ],\n",
    "           'day': [ '01','02','03','04','05','06','07','08','09','10','11','12',\n",
    "                   '13','14','15','16','17','18','19','20','21','22','23','24',\n",
    "                   '25','26','27','28','29','30','31',\n",
    "               \n",
    "           ],\n",
    "           'time': ['00:00','01:00','02:00','03:00','04:00','05:00','06:00',\n",
    "                    '07:00','08:00','09:00','10:00','11:00','12:00','13:00',\n",
    "                    '14:00','15:00','16:00','17:00','18:00','19:00','20:00',\n",
    "                    '21:00','22:00','23:00',\n",
    "                   ],\n",
    "           }, \n",
    "           'download2.nc')"
   ]
  },
  {
   "cell_type": "code",
   "execution_count": null,
   "id": "9f092f81",
   "metadata": {},
   "outputs": [],
   "source": [
    "import cdsapi\n",
    " \n",
    "c = cdsapi.Client()\n",
    " \n",
    "c.retrieve(\n",
    "    'reanalysis-era5-pressure-levels',\n",
    "    {\n",
    "        'product_type': 'reanalysis',\n",
    "        'variable': 'temperature',\n",
    "        'pressure_level': '1000',\n",
    "        'year': '2008',\n",
    "        'month': '01',\n",
    "        'day': '01',\n",
    "        'time': '12:00',\n",
    "        'format': 'netcdf',                 # Supported format: grib and netcdf. Default: grib\n",
    "    },\n",
    "    'download.nc')  "
   ]
  },
  {
   "cell_type": "code",
   "execution_count": null,
   "id": "7f823507",
   "metadata": {},
   "outputs": [],
   "source": [
    "import cdsapi\n",
    " \n",
    "c = cdsapi.Client()\n",
    " \n",
    "c.retrieve(\n",
    "    'reanalysis-era5-pressure-levels',\n",
    "    {\n",
    "        'product_type': 'reanalysis',\n",
    "        'variable': 'temperature',\n",
    "        'pressure_level': '1000',\n",
    "        'year': ['2008'],\n",
    "        'month': ['01'],\n",
    "        'day': ['01'],\n",
    "        'time': ['12:00'],\n",
    "        'format': 'netcdf',                 # Supported format: grib and netcdf. Default: grib\n",
    "    },\n",
    "    'download.nc')  \n",
    "\n",
    "           'year': [\n",
    "               '1959','1960','1961','1962','1963',               \n",
    "           ],\n",
    "           'month': [\n",
    "               '01','02','03','04','05','06','07','08','09','10','11','12'\n",
    "           ],\n",
    "           'day': [ '01','02','03','04','05','06','07','08','09','10','11','12',\n",
    "                   '13','14','15','16','17','18','19','20','21','22','23','24',\n",
    "                   '25','26','27','28','29','30','31',\n",
    "               \n",
    "           ],\n",
    "           'time': ['00:00','01:00','02:00','03:00','04:00','05:00','06:00',\n",
    "                    '07:00','08:00','09:00','10:00','11:00','12:00','13:00',\n",
    "                    '14:00','15:00','16:00','17:00','18:00','19:00','20:00',\n",
    "                    '21:00','22:00','23:00',\n",
    "                   ],\n",
    "\n",
    "\n"
   ]
  },
  {
   "cell_type": "code",
   "execution_count": null,
   "id": "44b6d29b",
   "metadata": {},
   "outputs": [],
   "source": [
    "import cdsapi\n",
    " \n",
    "c = cdsapi.Client()\n",
    " \n",
    "c.retrieve(\n",
    "    'reanalysis-era5-pressure-levels',\n",
    "    {\n",
    "        'product_type': 'reanalysis',\n",
    "        'variable': 'temperature',\n",
    "        'pressure_level': '1000',\n",
    "        'year': [\n",
    "               '1959','1960','1961','1962','1963',               \n",
    "           ],\n",
    "        'month': [\n",
    "               '01','02','03','04','05','06','07','08','09','10','11','12'\n",
    "           ],\n",
    "        'day': [ '01','02','03','04','05','06','07','08','09','10','11','12',\n",
    "                   '13','14','15','16','17','18','19','20','21','22','23','24',\n",
    "                   '25','26','27','28','29','30','31',\n",
    "           ],\n",
    "        'time': ['12:00'],\n",
    "\n",
    "\n",
    "        'format': 'netcdf',                 # Supported format: grib and netcdf. Default: grib\n",
    "    },\n",
    "    'download.nc')  \n",
    "\n"
   ]
  },
  {
   "cell_type": "markdown",
   "id": "425fe9dd",
   "metadata": {},
   "source": [
    "# Complete examples - Pressure Levels - ERA 5"
   ]
  },
  {
   "cell_type": "code",
   "execution_count": null,
   "id": "cec28ab0",
   "metadata": {},
   "outputs": [],
   "source": [
    "import cdsapi\n",
    "c = cdsapi.Client()\n",
    "\n",
    "\n",
    "years = ['1959','1960','1961','1962','1963']\n",
    "months = ['00:00','01:00','02:00','03:00','04:00','05:00','06:00', '07:00','08:00','09:00','10:00','11:00','12:00',\n",
    "         '13:00','14:00','15:00','16:00','17:00','18:00','19:00','20:00','21:00','22:00','23:00',]\n",
    "days = ['01','02','03','04','05','06','07','08','09','10','11','12','13','14','15','16','17','18',\n",
    "        '19','20','21','22','23','24','25','26','27','28','29','30','31',]\n",
    "times = ['00:00','01:00','02:00','03:00','04:00','05:00','06:00',\n",
    "         '07:00','08:00','09:00','10:00','11:00','12:00','13:00',\n",
    "         '14:00','15:00','16:00','17:00','18:00','19:00','20:00',\n",
    "         '21:00','22:00','23:00',],\n",
    "variables = ['u_component_of_wind','v_component_of_wind','divergence','fraction_of_cloud_cover','geopotential','ozone_mass_mixing_ratio','potential_vorticity',\n",
    "             'relative_humidity','specific_cloud_ice_water_content','specific_cloud_liquid_water_content','specific_humidity',\n",
    "            'specific_rain_water_content','specific_snow_water_content','temperature','vertical_velocity','vorticity']\n",
    "\n",
    "PressureLevel = ['1','2','3','5','7','10','20']\n",
    "\n",
    "c.retrieve('reanalysis-era5-pressure-levels', \n",
    "           {'product_type': 'reanalysis',\n",
    "           'format': 'netcdf',\n",
    "           'variable': variables,\n",
    "            'pressure_level': PressureLevel\n",
    "           'year': years,\n",
    "           'month': months,\n",
    "           'day': days,\n",
    "           'time': times,\n",
    "           }, \n",
    "           'download2.nc')\n"
   ]
  }
 ],
 "metadata": {
  "kernelspec": {
   "display_name": "Python 3 (ipykernel)",
   "language": "python",
   "name": "python3"
  },
  "language_info": {
   "codemirror_mode": {
    "name": "ipython",
    "version": 3
   },
   "file_extension": ".py",
   "mimetype": "text/x-python",
   "name": "python",
   "nbconvert_exporter": "python",
   "pygments_lexer": "ipython3",
   "version": "3.8.3"
  }
 },
 "nbformat": 4,
 "nbformat_minor": 5
}
